{
 "cells": [
  {
   "metadata": {
    "ExecuteTime": {
     "end_time": "2024-12-29T08:24:48.647582Z",
     "start_time": "2024-12-29T08:24:30.364591Z"
    }
   },
   "cell_type": "code",
   "source": [
    "import numpy as np\n",
    "import sklearn.datasets as ds\n",
    "from sklearn.model_selection import train_test_split"
   ],
   "id": "4ebac5d1c6cc0093",
   "outputs": [],
   "execution_count": 2
  },
  {
   "metadata": {
    "ExecuteTime": {
     "end_time": "2024-12-29T08:48:55.950007Z",
     "start_time": "2024-12-29T08:48:55.942263Z"
    }
   },
   "cell_type": "code",
   "source": [
    "class LinearRegression:\n",
    "    def __init__(self, learning_rate, iterations=100):\n",
    "        self.learning_rate = learning_rate\n",
    "        self.iterations = iterations\n",
    "\n",
    "    def fit(self, X, y):\n",
    "        n_samples, n_features = X.shape\n",
    "        self.weights = np.zeros(n_features)\n",
    "        self.bias = 0\n",
    "\n",
    "        for i in range(self.iterations):\n",
    "            y_pred = np.dot(X, self.weights) + self.bias\n",
    "            diff = y_pred - y\n",
    "\n",
    "            dw = np.dot(X.T, (diff)) / n_samples\n",
    "            db = np.sum(diff) / n_samples\n",
    "\n",
    "            self.weights -= self.learning_rate * dw\n",
    "            self.bias -= self.learning_rate * db\n",
    "\n",
    "    def predict(self, X):\n",
    "        y_pred = np.dot(X, self.weights) + self.bias\n",
    "        return y_pred\n",
    "\n",
    "    def mse(self, y_true, y_pred):\n",
    "        error = np.mean((y_true - y_pred)**2)\n",
    "        return error"
   ],
   "id": "1f3d642653d58b08",
   "outputs": [],
   "execution_count": 11
  },
  {
   "metadata": {
    "ExecuteTime": {
     "end_time": "2024-12-29T08:47:08.681232Z",
     "start_time": "2024-12-29T08:47:08.644852Z"
    }
   },
   "cell_type": "code",
   "source": [
    "X, y = ds.make_regression(n_samples=100, n_features=10, noise=20)\n",
    "X_train, X_test, y_train, y_test = train_test_split(X, y, test_size=0.2)"
   ],
   "id": "4d0541ea7cfa14d8",
   "outputs": [],
   "execution_count": 6
  },
  {
   "metadata": {
    "ExecuteTime": {
     "end_time": "2024-12-29T08:47:15.331033Z",
     "start_time": "2024-12-29T08:47:15.319669Z"
    }
   },
   "cell_type": "code",
   "source": "X_train.shape",
   "id": "e84f5470449afe14",
   "outputs": [
    {
     "data": {
      "text/plain": [
       "(80, 10)"
      ]
     },
     "execution_count": 7,
     "metadata": {},
     "output_type": "execute_result"
    }
   ],
   "execution_count": 7
  },
  {
   "metadata": {
    "ExecuteTime": {
     "end_time": "2024-12-29T08:51:54.149102Z",
     "start_time": "2024-12-29T08:51:54.142107Z"
    }
   },
   "cell_type": "code",
   "source": "model = LinearRegression(learning_rate=0.1, iterations=5000)",
   "id": "aab8d49793b1d549",
   "outputs": [],
   "execution_count": 24
  },
  {
   "metadata": {
    "ExecuteTime": {
     "end_time": "2024-12-29T08:51:54.440781Z",
     "start_time": "2024-12-29T08:51:54.359765Z"
    }
   },
   "cell_type": "code",
   "source": "model.fit(X_train, y_train)",
   "id": "da160447bfe9924f",
   "outputs": [],
   "execution_count": 25
  },
  {
   "metadata": {
    "ExecuteTime": {
     "end_time": "2024-12-29T08:51:54.632583Z",
     "start_time": "2024-12-29T08:51:54.626866Z"
    }
   },
   "cell_type": "code",
   "source": "y_preds = model.predict(X_test)",
   "id": "9d4966d13d399685",
   "outputs": [],
   "execution_count": 26
  },
  {
   "metadata": {
    "ExecuteTime": {
     "end_time": "2024-12-29T08:51:55.168471Z",
     "start_time": "2024-12-29T08:51:55.162483Z"
    }
   },
   "cell_type": "code",
   "source": "print(model.mse(y_test, y_preds))",
   "id": "2990cf1a0d1f6eac",
   "outputs": [
    {
     "name": "stdout",
     "output_type": "stream",
     "text": [
      "568.9997812579428\n"
     ]
    }
   ],
   "execution_count": 27
  },
  {
   "metadata": {
    "ExecuteTime": {
     "end_time": "2024-12-29T11:54:49.829185Z",
     "start_time": "2024-12-29T11:54:49.821995Z"
    }
   },
   "cell_type": "code",
   "source": [
    "class LinearRegression:\n",
    "    def __init__(self, learning_rate, threshold, iterations=100):\n",
    "        self.learning_rate = learning_rate\n",
    "        self.iterations = iterations\n",
    "        self.threshold = threshold\n",
    "\n",
    "    def sigmoid(self, z):\n",
    "        return 1 / (1 + np.exp(-z))\n",
    "\n",
    "    def fit(self, X, y):\n",
    "        n_samples, n_features = X.shape\n",
    "        self.weights, self.bias = np.zeros(n_features), 0\n",
    "\n",
    "        for i in range(self.iterations):\n",
    "            y_pred = self.sigmoid(X.dot(self.weights)+self.bias)\n",
    "            diff = y - y_pred\n",
    "\n",
    "            dw = X.T.dot(diff) / n_samples\n",
    "            db = np.sum(diff) / n_samples\n",
    "\n",
    "            self.weights -= self.learning_rate * dw\n",
    "            self.bias -= self.learning_rate * db\n",
    "\n",
    "    def predict(self, X):\n",
    "        return np.where(self.sigmoid(X.dot(self.weights)+self.bias)<self.threshold, 1, 0)\n",
    "\n",
    "    def accuracy(self, y_true, y_pred):\n",
    "        return np.mean(y_true == y_pred)"
   ],
   "id": "f6696f73045c6ab1",
   "outputs": [],
   "execution_count": 45
  },
  {
   "metadata": {
    "ExecuteTime": {
     "end_time": "2024-12-29T11:54:51.543733Z",
     "start_time": "2024-12-29T11:54:51.536712Z"
    }
   },
   "cell_type": "code",
   "source": [
    "X, y = ds.make_classification(n_samples=100, n_features=10)\n",
    "X_train, X_test, y_train, y_test = train_test_split(X, y, test_size=0.2)"
   ],
   "id": "43f5aaa1a3220f05",
   "outputs": [],
   "execution_count": 46
  },
  {
   "metadata": {
    "ExecuteTime": {
     "end_time": "2024-12-29T11:54:52.099244Z",
     "start_time": "2024-12-29T11:54:52.068240Z"
    }
   },
   "cell_type": "code",
   "source": [
    "model = LinearRegression(learning_rate=0.01, threshold=0.6, iterations=1000)\n",
    "model.fit(X_train, y_train)"
   ],
   "id": "f3c37afdc522fb84",
   "outputs": [],
   "execution_count": 47
  },
  {
   "metadata": {
    "ExecuteTime": {
     "end_time": "2024-12-29T11:55:22.453929Z",
     "start_time": "2024-12-29T11:55:22.445919Z"
    }
   },
   "cell_type": "code",
   "source": "model.accuracy(y_test, model.predict(X_test))",
   "id": "15d4764ab85d28c8",
   "outputs": [
    {
     "data": {
      "text/plain": [
       "np.float64(0.8)"
      ]
     },
     "execution_count": 51,
     "metadata": {},
     "output_type": "execute_result"
    }
   ],
   "execution_count": 51
  },
  {
   "metadata": {},
   "cell_type": "code",
   "outputs": [],
   "execution_count": null,
   "source": "",
   "id": "d13b4f95164765bc"
  }
 ],
 "metadata": {
  "kernelspec": {
   "display_name": "Python 3",
   "language": "python",
   "name": "python3"
  },
  "language_info": {
   "codemirror_mode": {
    "name": "ipython",
    "version": 2
   },
   "file_extension": ".py",
   "mimetype": "text/x-python",
   "name": "python",
   "nbconvert_exporter": "python",
   "pygments_lexer": "ipython2",
   "version": "2.7.6"
  }
 },
 "nbformat": 4,
 "nbformat_minor": 5
}
