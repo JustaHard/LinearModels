{
 "cells": [
  {
   "metadata": {
    "ExecuteTime": {
     "end_time": "2024-12-29T15:39:41.011842Z",
     "start_time": "2024-12-29T15:39:27.770848Z"
    }
   },
   "cell_type": "code",
   "source": [
    "import sklearn.datasets as ds\n",
    "from sklearn.model_selection import train_test_split\n",
    "\n",
    "from classes import *"
   ],
   "id": "4ebac5d1c6cc0093",
   "outputs": [],
   "execution_count": 1
  },
  {
   "metadata": {},
   "cell_type": "markdown",
   "source": "# Linear Regression",
   "id": "ced4a4290867373b"
  },
  {
   "metadata": {
    "ExecuteTime": {
     "end_time": "2024-12-29T15:39:41.027242Z",
     "start_time": "2024-12-29T15:39:41.018842Z"
    }
   },
   "cell_type": "code",
   "source": [
    "X, y = ds.make_regression(n_samples=100, n_features=10, noise=20)\n",
    "X_train, X_test, y_train, y_test = train_test_split(X, y, test_size=0.2)"
   ],
   "id": "4d0541ea7cfa14d8",
   "outputs": [],
   "execution_count": 2
  },
  {
   "metadata": {
    "ExecuteTime": {
     "end_time": "2024-12-29T15:42:52.311376Z",
     "start_time": "2024-12-29T15:42:52.161963Z"
    }
   },
   "cell_type": "code",
   "source": [
    "model = LinearRegression()\n",
    "model.fit(X_train, y_train, learning_rate=0.01, iterations=5000)\n",
    "y_pred = model.predict(X_test)\n",
    "print(model.mse(y_test, y_pred))"
   ],
   "id": "92dcd95cd5ce6677",
   "outputs": [
    {
     "name": "stdout",
     "output_type": "stream",
     "text": [
      "398.7033410435464\n"
     ]
    }
   ],
   "execution_count": 19
  },
  {
   "metadata": {
    "ExecuteTime": {
     "end_time": "2024-12-29T15:42:52.794637Z",
     "start_time": "2024-12-29T15:42:52.787128Z"
    }
   },
   "cell_type": "code",
   "source": "model.mae(y_test, y_pred)",
   "id": "267fae5bb8858eeb",
   "outputs": [
    {
     "data": {
      "text/plain": [
       "np.float64(16.69985457954497)"
      ]
     },
     "execution_count": 20,
     "metadata": {},
     "output_type": "execute_result"
    }
   ],
   "execution_count": 20
  },
  {
   "metadata": {
    "ExecuteTime": {
     "end_time": "2024-12-29T15:42:53.873990Z",
     "start_time": "2024-12-29T15:42:53.867126Z"
    }
   },
   "cell_type": "code",
   "source": "model.mape(y_test, y_pred)",
   "id": "cef599d91e279eeb",
   "outputs": [
    {
     "data": {
      "text/plain": [
       "np.float64(0.16014002666254373)"
      ]
     },
     "execution_count": 21,
     "metadata": {},
     "output_type": "execute_result"
    }
   ],
   "execution_count": 21
  },
  {
   "metadata": {
    "ExecuteTime": {
     "end_time": "2024-12-29T15:42:54.753854Z",
     "start_time": "2024-12-29T15:42:54.745284Z"
    }
   },
   "cell_type": "code",
   "source": "model.smape(y_test, y_pred)",
   "id": "a26e45c74f917517",
   "outputs": [
    {
     "data": {
      "text/plain": [
       "np.float64(0.026189147248817095)"
      ]
     },
     "execution_count": 22,
     "metadata": {},
     "output_type": "execute_result"
    }
   ],
   "execution_count": 22
  },
  {
   "metadata": {
    "ExecuteTime": {
     "end_time": "2024-12-29T15:42:56.119056Z",
     "start_time": "2024-12-29T15:42:56.111327Z"
    }
   },
   "cell_type": "code",
   "source": "model.wape(y_test, y_pred)",
   "id": "1b201e5bfcc76c34",
   "outputs": [
    {
     "data": {
      "text/plain": [
       "np.float64(1.2820920823740005)"
      ]
     },
     "execution_count": 23,
     "metadata": {},
     "output_type": "execute_result"
    }
   ],
   "execution_count": 23
  },
  {
   "metadata": {},
   "cell_type": "markdown",
   "source": "# Logistic Regression",
   "id": "e375aaf31ef2986c"
  },
  {
   "metadata": {
    "ExecuteTime": {
     "end_time": "2024-12-29T12:18:17.309996Z",
     "start_time": "2024-12-29T12:18:17.240106Z"
    }
   },
   "cell_type": "code",
   "source": [
    "X, y = ds.make_classification(n_samples=500, n_features=20)\n",
    "X_train, X_test, y_train, y_test = train_test_split(X, y, test_size=0.2)"
   ],
   "id": "4c890c4d5c41c237",
   "outputs": [],
   "execution_count": 8
  },
  {
   "metadata": {
    "ExecuteTime": {
     "end_time": "2024-12-29T12:19:31.682379Z",
     "start_time": "2024-12-29T12:19:31.540058Z"
    }
   },
   "cell_type": "code",
   "source": [
    "model = LogisticRegression(learning_rate=0.01, iterations=5000, threshold=0.7)\n",
    "model.fit(X_train, y_train)\n",
    "y_pred = model.predict(X_test)\n",
    "print(model.accuracy(y_test, y_pred))"
   ],
   "id": "53964fddac2d3461",
   "outputs": [
    {
     "name": "stdout",
     "output_type": "stream",
     "text": [
      "0.88\n"
     ]
    }
   ],
   "execution_count": 15
  }
 ],
 "metadata": {
  "kernelspec": {
   "display_name": "Python 3",
   "language": "python",
   "name": "python3"
  },
  "language_info": {
   "codemirror_mode": {
    "name": "ipython",
    "version": 2
   },
   "file_extension": ".py",
   "mimetype": "text/x-python",
   "name": "python",
   "nbconvert_exporter": "python",
   "pygments_lexer": "ipython2",
   "version": "2.7.6"
  }
 },
 "nbformat": 4,
 "nbformat_minor": 5
}
