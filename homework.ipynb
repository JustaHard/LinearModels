{
 "cells": [
  {
   "metadata": {
    "ExecuteTime": {
     "end_time": "2024-12-29T13:55:52.106652Z",
     "start_time": "2024-12-29T13:55:50.386158Z"
    }
   },
   "cell_type": "code",
   "source": [
    "import sklearn.datasets as ds\n",
    "from sklearn.model_selection import train_test_split\n",
    "\n",
    "from classes import *"
   ],
   "id": "4ebac5d1c6cc0093",
   "outputs": [],
   "execution_count": 1
  },
  {
   "metadata": {},
   "cell_type": "markdown",
   "source": "# Linear Regression",
   "id": "ced4a4290867373b"
  },
  {
   "metadata": {
    "ExecuteTime": {
     "end_time": "2024-12-29T12:11:39.134223Z",
     "start_time": "2024-12-29T12:11:39.126757Z"
    }
   },
   "cell_type": "code",
   "source": [
    "X, y = ds.make_regression(n_samples=100, n_features=10, noise=20)\n",
    "X_train, X_test, y_train, y_test = train_test_split(X, y, test_size=0.2)"
   ],
   "id": "4d0541ea7cfa14d8",
   "outputs": [],
   "execution_count": 2
  },
  {
   "metadata": {
    "ExecuteTime": {
     "end_time": "2024-12-29T12:16:01.473504Z",
     "start_time": "2024-12-29T12:16:01.380239Z"
    }
   },
   "cell_type": "code",
   "source": [
    "model = LinearRegression(learning_rate=0.01, iterations=5000)\n",
    "model.fit(X_train, y_train)\n",
    "y_pred = model.predict(X_test)\n",
    "print(model.mse(y_test, y_pred))"
   ],
   "id": "92dcd95cd5ce6677",
   "outputs": [
    {
     "name": "stdout",
     "output_type": "stream",
     "text": [
      "560.5459669046165\n"
     ]
    }
   ],
   "execution_count": 7
  },
  {
   "metadata": {},
   "cell_type": "markdown",
   "source": "# Logistic Regression",
   "id": "e375aaf31ef2986c"
  },
  {
   "metadata": {
    "ExecuteTime": {
     "end_time": "2024-12-29T13:56:36.954193Z",
     "start_time": "2024-12-29T13:56:36.946158Z"
    }
   },
   "cell_type": "code",
   "source": [
    "X, y = ds.make_classification(n_samples=500, n_features=20)\n",
    "X_train, X_test, y_train, y_test = train_test_split(X, y, test_size=0.2)"
   ],
   "id": "4c890c4d5c41c237",
   "outputs": [],
   "execution_count": 2
  },
  {
   "metadata": {
    "ExecuteTime": {
     "end_time": "2024-12-29T13:56:37.599560Z",
     "start_time": "2024-12-29T13:56:37.425184Z"
    }
   },
   "cell_type": "code",
   "source": [
    "model = LogisticRegression(learning_rate=0.01, iterations=5000, threshold=0.7)\n",
    "model.fit(X_train, y_train)\n",
    "y_pred = model.predict(X_test)\n",
    "print(model.accuracy(y_test, y_pred))"
   ],
   "id": "53964fddac2d3461",
   "outputs": [
    {
     "name": "stdout",
     "output_type": "stream",
     "text": [
      "0.87\n"
     ]
    }
   ],
   "execution_count": 3
  },
  {
   "metadata": {},
   "cell_type": "code",
   "outputs": [],
   "execution_count": null,
   "source": "",
   "id": "9513d7c4a8b65cbe"
  }
 ],
 "metadata": {
  "kernelspec": {
   "display_name": "Python 3",
   "language": "python",
   "name": "python3"
  },
  "language_info": {
   "codemirror_mode": {
    "name": "ipython",
    "version": 2
   },
   "file_extension": ".py",
   "mimetype": "text/x-python",
   "name": "python",
   "nbconvert_exporter": "python",
   "pygments_lexer": "ipython2",
   "version": "2.7.6"
  }
 },
 "nbformat": 4,
 "nbformat_minor": 5
}
