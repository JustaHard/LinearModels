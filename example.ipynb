{
 "cells": [
  {
   "cell_type": "code",
   "id": "initial_id",
   "metadata": {
    "collapsed": true,
    "ExecuteTime": {
     "end_time": "2025-01-06T09:08:04.797099Z",
     "start_time": "2025-01-06T09:07:51.596376Z"
    }
   },
   "source": [
    "import sklearn.datasets as ds\n",
    "from sklearn.model_selection import train_test_split\n",
    "import pandas as pd\n",
    "\n",
    "from classes import *"
   ],
   "outputs": [],
   "execution_count": 1
  },
  {
   "metadata": {},
   "cell_type": "markdown",
   "source": "# Linear Regression",
   "id": "442e42be67fbc879"
  },
  {
   "metadata": {
    "ExecuteTime": {
     "end_time": "2025-01-06T09:08:04.810924Z",
     "start_time": "2025-01-06T09:08:04.797099Z"
    }
   },
   "cell_type": "code",
   "source": [
    "X, y = ds.make_regression(n_samples=1000, n_features=20, noise=20)\n",
    "X_train, X_test, y_train, y_test = train_test_split(X, y, test_size=0.2)"
   ],
   "id": "84c251a85fa1986a",
   "outputs": [],
   "execution_count": 2
  },
  {
   "metadata": {
    "ExecuteTime": {
     "end_time": "2025-01-06T09:08:05.574051Z",
     "start_time": "2025-01-06T09:08:05.534510Z"
    }
   },
   "cell_type": "code",
   "source": [
    "model = LinearRegression()\n",
    "model.fit(X_train, y_train)\n",
    "y_pred = model.predict(X_test)\n",
    "model.mse(y_test, y_pred)"
   ],
   "id": "5ba79cf3e53a576c",
   "outputs": [
    {
     "data": {
      "text/plain": [
       "np.float64(341.90709009143944)"
      ]
     },
     "execution_count": 3,
     "metadata": {},
     "output_type": "execute_result"
    }
   ],
   "execution_count": 3
  },
  {
   "metadata": {
    "ExecuteTime": {
     "end_time": "2025-01-06T09:08:05.598021Z",
     "start_time": "2025-01-06T09:08:05.589144Z"
    }
   },
   "cell_type": "code",
   "source": "model.mae(y_test, y_pred)",
   "id": "c6d85137169c9648",
   "outputs": [
    {
     "data": {
      "text/plain": [
       "np.float64(14.99789266825101)"
      ]
     },
     "execution_count": 4,
     "metadata": {},
     "output_type": "execute_result"
    }
   ],
   "execution_count": 4
  },
  {
   "metadata": {
    "ExecuteTime": {
     "end_time": "2025-01-06T09:08:05.623700Z",
     "start_time": "2025-01-06T09:08:05.614292Z"
    }
   },
   "cell_type": "code",
   "source": "model.mape(y_test, y_pred)",
   "id": "a6b3ab110a502ac2",
   "outputs": [
    {
     "data": {
      "text/plain": [
       "np.float64(0.311834060360854)"
      ]
     },
     "execution_count": 5,
     "metadata": {},
     "output_type": "execute_result"
    }
   ],
   "execution_count": 5
  },
  {
   "metadata": {
    "ExecuteTime": {
     "end_time": "2025-01-06T09:08:05.648975Z",
     "start_time": "2025-01-06T09:08:05.641214Z"
    }
   },
   "cell_type": "code",
   "source": "model.smape(y_test, y_pred)",
   "id": "c04e9e21111b6764",
   "outputs": [
    {
     "data": {
      "text/plain": [
       "np.float64(-0.03261122515570513)"
      ]
     },
     "execution_count": 6,
     "metadata": {},
     "output_type": "execute_result"
    }
   ],
   "execution_count": 6
  },
  {
   "metadata": {
    "ExecuteTime": {
     "end_time": "2025-01-06T09:08:05.672733Z",
     "start_time": "2025-01-06T09:08:05.664530Z"
    }
   },
   "cell_type": "code",
   "source": "model.wape(y_test, y_pred)",
   "id": "656f8ce87a347642",
   "outputs": [
    {
     "data": {
      "text/plain": [
       "np.float64(-13.509385991594867)"
      ]
     },
     "execution_count": 7,
     "metadata": {},
     "output_type": "execute_result"
    }
   ],
   "execution_count": 7
  },
  {
   "metadata": {},
   "cell_type": "markdown",
   "source": "# Logistic Regression",
   "id": "b2c0d2520181ec37"
  },
  {
   "metadata": {
    "ExecuteTime": {
     "end_time": "2025-01-06T09:08:05.698298Z",
     "start_time": "2025-01-06T09:08:05.688006Z"
    }
   },
   "cell_type": "code",
   "source": [
    "X, y = ds.make_classification(n_samples=1000, n_features=20)\n",
    "X_train, X_test, y_train, y_test = train_test_split(X, y, test_size=0.2)"
   ],
   "id": "65fe0793dfd0895e",
   "outputs": [],
   "execution_count": 8
  },
  {
   "metadata": {
    "ExecuteTime": {
     "end_time": "2025-01-06T09:08:05.777966Z",
     "start_time": "2025-01-06T09:08:05.710886Z"
    }
   },
   "cell_type": "code",
   "source": [
    "model = LogisticRegression()\n",
    "model.fit(X_train, y_train, threshold=0.75)\n",
    "y_pred = model.predict(X_test)\n",
    "model.accuracy(y_test, y_pred)"
   ],
   "id": "a59f590cac92c0e3",
   "outputs": [
    {
     "data": {
      "text/plain": [
       "np.float64(0.835)"
      ]
     },
     "execution_count": 9,
     "metadata": {},
     "output_type": "execute_result"
    }
   ],
   "execution_count": 9
  },
  {
   "metadata": {
    "ExecuteTime": {
     "end_time": "2025-01-06T09:08:05.798044Z",
     "start_time": "2025-01-06T09:08:05.790153Z"
    }
   },
   "cell_type": "code",
   "source": "model.confusion_matrix(y_test, y_pred)",
   "id": "ee347cdf72e76b87",
   "outputs": [
    {
     "data": {
      "text/plain": [
       "array([[86, 15],\n",
       "       [18, 81]])"
      ]
     },
     "execution_count": 10,
     "metadata": {},
     "output_type": "execute_result"
    }
   ],
   "execution_count": 10
  },
  {
   "metadata": {
    "ExecuteTime": {
     "end_time": "2025-01-06T09:08:05.858757Z",
     "start_time": "2025-01-06T09:08:05.849819Z"
    }
   },
   "cell_type": "code",
   "source": "model.precision(y_test, y_pred)",
   "id": "c0f90fd43f524663",
   "outputs": [
    {
     "data": {
      "text/plain": [
       "np.float64(0.84375)"
      ]
     },
     "execution_count": 11,
     "metadata": {},
     "output_type": "execute_result"
    }
   ],
   "execution_count": 11
  },
  {
   "metadata": {
    "ExecuteTime": {
     "end_time": "2025-01-06T09:08:05.952188Z",
     "start_time": "2025-01-06T09:08:05.943113Z"
    }
   },
   "cell_type": "code",
   "source": "model.recall(y_test, y_pred)",
   "id": "4ff9aa98bd8dd3d",
   "outputs": [
    {
     "data": {
      "text/plain": [
       "np.float64(0.8181818181818182)"
      ]
     },
     "execution_count": 12,
     "metadata": {},
     "output_type": "execute_result"
    }
   ],
   "execution_count": 12
  },
  {
   "metadata": {
    "ExecuteTime": {
     "end_time": "2025-01-06T09:08:05.976743Z",
     "start_time": "2025-01-06T09:08:05.967831Z"
    }
   },
   "cell_type": "code",
   "source": "model.f1(y_test, y_pred)",
   "id": "bd393a3244b233da",
   "outputs": [
    {
     "data": {
      "text/plain": [
       "np.float64(0.8307692307692308)"
      ]
     },
     "execution_count": 13,
     "metadata": {},
     "output_type": "execute_result"
    }
   ],
   "execution_count": 13
  },
  {
   "metadata": {
    "ExecuteTime": {
     "end_time": "2025-01-06T09:08:06.002541Z",
     "start_time": "2025-01-06T09:08:05.987650Z"
    }
   },
   "cell_type": "code",
   "source": "model.f_beta(y_test, y_pred, beta=5)",
   "id": "c02ba356e11e44ff",
   "outputs": [
    {
     "data": {
      "text/plain": [
       "np.float64(0.8191365227537923)"
      ]
     },
     "execution_count": 14,
     "metadata": {},
     "output_type": "execute_result"
    }
   ],
   "execution_count": 14
  },
  {
   "metadata": {},
   "cell_type": "markdown",
   "source": "# Pandas DF Linear Regression",
   "id": "8e94b20605b4a80d"
  },
  {
   "metadata": {
    "ExecuteTime": {
     "end_time": "2025-01-06T09:08:06.023381Z",
     "start_time": "2025-01-06T09:08:06.015394Z"
    }
   },
   "cell_type": "code",
   "source": [
    "X, y = ds.make_regression(n_samples=1000, n_features=20)\n",
    "df = pd.DataFrame(X)\n",
    "df[20] = y"
   ],
   "id": "ef9938f657e473d9",
   "outputs": [],
   "execution_count": 15
  },
  {
   "metadata": {
    "ExecuteTime": {
     "end_time": "2025-01-06T09:08:06.058530Z",
     "start_time": "2025-01-06T09:08:06.049293Z"
    }
   },
   "cell_type": "code",
   "source": [
    "y = df[20]\n",
    "X = df.drop(columns=[20])\n",
    "X_train, X_test, y_train, y_test = train_test_split(X, y, test_size=0.2)"
   ],
   "id": "bd6e1176207fde46",
   "outputs": [],
   "execution_count": 16
  },
  {
   "metadata": {
    "ExecuteTime": {
     "end_time": "2025-01-06T09:08:07.341890Z",
     "start_time": "2025-01-06T09:08:06.086129Z"
    }
   },
   "cell_type": "code",
   "source": [
    "model = LinearRegression()\n",
    "model.fit(X_train, y_train)\n",
    "y_pred = model.predict(X_test)\n",
    "model.mse(y_test, y_pred)"
   ],
   "id": "c9e39f14ac409452",
   "outputs": [
    {
     "data": {
      "text/plain": [
       "np.float64(0.0005161174879577871)"
      ]
     },
     "execution_count": 17,
     "metadata": {},
     "output_type": "execute_result"
    }
   ],
   "execution_count": 17
  },
  {
   "metadata": {
    "ExecuteTime": {
     "end_time": "2025-01-06T09:08:07.378370Z",
     "start_time": "2025-01-06T09:08:07.370536Z"
    }
   },
   "cell_type": "code",
   "source": "model.mae(y_test, y_pred)",
   "id": "f927a601abca0315",
   "outputs": [
    {
     "data": {
      "text/plain": [
       "np.float64(0.017550611345770285)"
      ]
     },
     "execution_count": 18,
     "metadata": {},
     "output_type": "execute_result"
    }
   ],
   "execution_count": 18
  },
  {
   "metadata": {
    "ExecuteTime": {
     "end_time": "2025-01-06T09:08:07.418235Z",
     "start_time": "2025-01-06T09:08:07.408889Z"
    }
   },
   "cell_type": "code",
   "source": "model.mape(y_test, y_pred)",
   "id": "ec51f9f6a8368dfb",
   "outputs": [
    {
     "data": {
      "text/plain": [
       "np.float64(0.00022726939875662968)"
      ]
     },
     "execution_count": 19,
     "metadata": {},
     "output_type": "execute_result"
    }
   ],
   "execution_count": 19
  },
  {
   "metadata": {
    "ExecuteTime": {
     "end_time": "2025-01-06T09:08:07.467455Z",
     "start_time": "2025-01-06T09:08:07.459282Z"
    }
   },
   "cell_type": "code",
   "source": "model.smape(y_test, y_pred)",
   "id": "25f0e65bd0bc4b8b",
   "outputs": [
    {
     "data": {
      "text/plain": [
       "np.float64(-1.0244724438539868e-05)"
      ]
     },
     "execution_count": 20,
     "metadata": {},
     "output_type": "execute_result"
    }
   ],
   "execution_count": 20
  },
  {
   "metadata": {
    "ExecuteTime": {
     "end_time": "2025-01-06T09:08:07.506149Z",
     "start_time": "2025-01-06T09:08:07.498471Z"
    }
   },
   "cell_type": "code",
   "source": "model.wape(y_test, y_pred)",
   "id": "b4965126caaec7bd",
   "outputs": [
    {
     "data": {
      "text/plain": [
       "np.float64(-0.006050396380014355)"
      ]
     },
     "execution_count": 21,
     "metadata": {},
     "output_type": "execute_result"
    }
   ],
   "execution_count": 21
  },
  {
   "metadata": {},
   "cell_type": "markdown",
   "source": "# Pandas DF Logistic Regression",
   "id": "c8a2809ebd120344"
  },
  {
   "metadata": {
    "ExecuteTime": {
     "end_time": "2025-01-06T09:08:07.546725Z",
     "start_time": "2025-01-06T09:08:07.537786Z"
    }
   },
   "cell_type": "code",
   "source": [
    "X, y = ds.make_classification(n_samples=1000, n_features=20)\n",
    "df = pd.DataFrame(X)\n",
    "df[20] = y"
   ],
   "id": "592fd35e508b6f88",
   "outputs": [],
   "execution_count": 22
  },
  {
   "metadata": {
    "ExecuteTime": {
     "end_time": "2025-01-06T09:08:07.583539Z",
     "start_time": "2025-01-06T09:08:07.576915Z"
    }
   },
   "cell_type": "code",
   "source": [
    "y = df[20]\n",
    "X = df.drop(columns=[20])\n",
    "X_train, X_test, y_train, y_test = train_test_split(X, y, test_size=0.2)"
   ],
   "id": "773a6afcce0b297c",
   "outputs": [],
   "execution_count": 23
  },
  {
   "metadata": {
    "ExecuteTime": {
     "end_time": "2025-01-06T09:08:09.248498Z",
     "start_time": "2025-01-06T09:08:07.640051Z"
    }
   },
   "cell_type": "code",
   "source": [
    "model = LogisticRegression()\n",
    "model.fit(X_train, y_train)\n",
    "y_pred = model.predict(X_test)"
   ],
   "id": "c0a33f6a6f95f009",
   "outputs": [],
   "execution_count": 24
  },
  {
   "metadata": {
    "ExecuteTime": {
     "end_time": "2025-01-06T09:08:09.261070Z",
     "start_time": "2025-01-06T09:08:09.248498Z"
    }
   },
   "cell_type": "code",
   "source": "model.accuracy(y_test, y_pred)",
   "id": "4538aacc69619bd4",
   "outputs": [
    {
     "data": {
      "text/plain": [
       "np.float64(0.875)"
      ]
     },
     "execution_count": 25,
     "metadata": {},
     "output_type": "execute_result"
    }
   ],
   "execution_count": 25
  },
  {
   "metadata": {
    "ExecuteTime": {
     "end_time": "2025-01-06T09:08:09.297507Z",
     "start_time": "2025-01-06T09:08:09.289738Z"
    }
   },
   "cell_type": "code",
   "source": "model.confusion_matrix(y_test, y_pred)",
   "id": "782d5772452ed6d7",
   "outputs": [
    {
     "data": {
      "text/plain": [
       "array([[86, 12],\n",
       "       [13, 89]])"
      ]
     },
     "execution_count": 26,
     "metadata": {},
     "output_type": "execute_result"
    }
   ],
   "execution_count": 26
  },
  {
   "metadata": {
    "ExecuteTime": {
     "end_time": "2025-01-06T09:08:09.380013Z",
     "start_time": "2025-01-06T09:08:09.370010Z"
    }
   },
   "cell_type": "code",
   "source": "model.precision(y_test, y_pred)",
   "id": "938859f7eaeed4b1",
   "outputs": [
    {
     "data": {
      "text/plain": [
       "np.float64(0.8811881188118812)"
      ]
     },
     "execution_count": 27,
     "metadata": {},
     "output_type": "execute_result"
    }
   ],
   "execution_count": 27
  },
  {
   "metadata": {
    "ExecuteTime": {
     "end_time": "2025-01-06T09:08:09.449271Z",
     "start_time": "2025-01-06T09:08:09.435901Z"
    }
   },
   "cell_type": "code",
   "source": "model.recall(y_test, y_pred)",
   "id": "ad7a075ff6d2aca",
   "outputs": [
    {
     "data": {
      "text/plain": [
       "np.float64(0.8725490196078431)"
      ]
     },
     "execution_count": 28,
     "metadata": {},
     "output_type": "execute_result"
    }
   ],
   "execution_count": 28
  },
  {
   "metadata": {
    "ExecuteTime": {
     "end_time": "2025-01-06T09:08:09.504087Z",
     "start_time": "2025-01-06T09:08:09.480576Z"
    }
   },
   "cell_type": "code",
   "source": "model.f1(y_test, y_pred)",
   "id": "b9f492bfef5e2778",
   "outputs": [
    {
     "data": {
      "text/plain": [
       "np.float64(0.8768472906403942)"
      ]
     },
     "execution_count": 29,
     "metadata": {},
     "output_type": "execute_result"
    }
   ],
   "execution_count": 29
  },
  {
   "metadata": {
    "ExecuteTime": {
     "end_time": "2025-01-06T09:08:09.545728Z",
     "start_time": "2025-01-06T09:08:09.536049Z"
    }
   },
   "cell_type": "code",
   "source": "model.f_beta(y_test, y_pred, beta=5)",
   "id": "eed926e734e50745",
   "outputs": [
    {
     "data": {
      "text/plain": [
       "np.float64(0.8728781591852132)"
      ]
     },
     "execution_count": 30,
     "metadata": {},
     "output_type": "execute_result"
    }
   ],
   "execution_count": 30
  },
  {
   "metadata": {
    "ExecuteTime": {
     "end_time": "2025-01-06T09:08:09.577315Z",
     "start_time": "2025-01-06T09:08:09.573455Z"
    }
   },
   "cell_type": "code",
   "source": "",
   "id": "a2ba6e959a0075c2",
   "outputs": [],
   "execution_count": null
  }
 ],
 "metadata": {
  "kernelspec": {
   "display_name": "Python 3",
   "language": "python",
   "name": "python3"
  },
  "language_info": {
   "codemirror_mode": {
    "name": "ipython",
    "version": 2
   },
   "file_extension": ".py",
   "mimetype": "text/x-python",
   "name": "python",
   "nbconvert_exporter": "python",
   "pygments_lexer": "ipython2",
   "version": "2.7.6"
  }
 },
 "nbformat": 4,
 "nbformat_minor": 5
}
